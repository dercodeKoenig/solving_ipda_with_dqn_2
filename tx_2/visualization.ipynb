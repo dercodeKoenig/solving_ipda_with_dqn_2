{
 "cells": [
  {
   "cell_type": "code",
   "execution_count": 1,
   "id": "fb193759-c8c3-4bc6-b348-f228ce006a03",
   "metadata": {},
   "outputs": [
    {
     "ename": "FileNotFoundError",
     "evalue": "[Errno 2] No such file or directory: 'logs/rewards_log.txt'",
     "output_type": "error",
     "traceback": [
      "\u001b[1;31m---------------------------------------------------------------------------\u001b[0m",
      "\u001b[1;31mFileNotFoundError\u001b[0m                         Traceback (most recent call last)",
      "\u001b[1;32m<ipython-input-1-a00dc684039e>\u001b[0m in \u001b[0;36m<module>\u001b[1;34m\u001b[0m\n\u001b[0;32m     26\u001b[0m     \u001b[1;32mreturn\u001b[0m \u001b[0mx2\u001b[0m\u001b[1;33m\u001b[0m\u001b[1;33m\u001b[0m\u001b[0m\n\u001b[0;32m     27\u001b[0m \u001b[1;33m\u001b[0m\u001b[0m\n\u001b[1;32m---> 28\u001b[1;33m \u001b[0mrewards\u001b[0m \u001b[1;33m=\u001b[0m \u001b[0mread_log\u001b[0m\u001b[1;33m(\u001b[0m\u001b[1;34m\"logs/rewards_log.txt\"\u001b[0m\u001b[1;33m)\u001b[0m\u001b[1;33m\u001b[0m\u001b[1;33m\u001b[0m\u001b[0m\n\u001b[0m\u001b[0;32m     29\u001b[0m \u001b[0mfig\u001b[0m\u001b[1;33m,\u001b[0m \u001b[0max\u001b[0m \u001b[1;33m=\u001b[0m \u001b[0mplt\u001b[0m\u001b[1;33m.\u001b[0m\u001b[0msubplots\u001b[0m\u001b[1;33m(\u001b[0m\u001b[1;36m1\u001b[0m\u001b[1;33m,\u001b[0m\u001b[1;36m1\u001b[0m\u001b[1;33m,\u001b[0m\u001b[0mfigsize\u001b[0m\u001b[1;33m=\u001b[0m\u001b[1;33m(\u001b[0m\u001b[1;36m30\u001b[0m\u001b[1;33m,\u001b[0m\u001b[1;36m5\u001b[0m\u001b[1;33m)\u001b[0m\u001b[1;33m)\u001b[0m\u001b[1;33m\u001b[0m\u001b[1;33m\u001b[0m\u001b[0m\n\u001b[0;32m     30\u001b[0m \u001b[0max\u001b[0m\u001b[1;33m.\u001b[0m\u001b[0mplot\u001b[0m\u001b[1;33m(\u001b[0m\u001b[0mrewards\u001b[0m\u001b[1;33m)\u001b[0m\u001b[1;33m\u001b[0m\u001b[1;33m\u001b[0m\u001b[0m\n",
      "\u001b[1;32m<ipython-input-1-a00dc684039e>\u001b[0m in \u001b[0;36mread_log\u001b[1;34m(p)\u001b[0m\n\u001b[0;32m      6\u001b[0m \u001b[1;32mfrom\u001b[0m \u001b[0mcollections\u001b[0m \u001b[1;32mimport\u001b[0m \u001b[0mdeque\u001b[0m\u001b[1;33m\u001b[0m\u001b[1;33m\u001b[0m\u001b[0m\n\u001b[0;32m      7\u001b[0m \u001b[1;32mdef\u001b[0m \u001b[0mread_log\u001b[0m\u001b[1;33m(\u001b[0m\u001b[0mp\u001b[0m\u001b[1;33m)\u001b[0m\u001b[1;33m:\u001b[0m\u001b[1;33m\u001b[0m\u001b[1;33m\u001b[0m\u001b[0m\n\u001b[1;32m----> 8\u001b[1;33m     \u001b[0mfile1\u001b[0m \u001b[1;33m=\u001b[0m \u001b[0mopen\u001b[0m\u001b[1;33m(\u001b[0m\u001b[0mp\u001b[0m\u001b[1;33m)\u001b[0m\u001b[1;33m\u001b[0m\u001b[1;33m\u001b[0m\u001b[0m\n\u001b[0m\u001b[0;32m      9\u001b[0m     \u001b[0mtext\u001b[0m \u001b[1;33m=\u001b[0m \u001b[0mfile1\u001b[0m\u001b[1;33m.\u001b[0m\u001b[0mread\u001b[0m\u001b[1;33m(\u001b[0m\u001b[1;33m)\u001b[0m\u001b[1;33m\u001b[0m\u001b[1;33m\u001b[0m\u001b[0m\n\u001b[0;32m     10\u001b[0m     \u001b[0mfile1\u001b[0m\u001b[1;33m.\u001b[0m\u001b[0mclose\u001b[0m\u001b[1;33m(\u001b[0m\u001b[1;33m)\u001b[0m\u001b[1;33m\u001b[0m\u001b[1;33m\u001b[0m\u001b[0m\n",
      "\u001b[1;31mFileNotFoundError\u001b[0m: [Errno 2] No such file or directory: 'logs/rewards_log.txt'"
     ]
    }
   ],
   "source": [
    "import matplotlib.pyplot as plt\n",
    "import numpy as np\n",
    "from tqdm import tqdm\n",
    "from IPython.display import clear_output\n",
    "import time\n",
    "from collections import deque\n",
    "def read_log(p):\n",
    "    file1 = open(p)\n",
    "    text = file1.read()\n",
    "    file1.close()\n",
    "\n",
    "    x = [float(x) for x in text.split(\"\\n\")[0:] if x != \"\" and not np.isnan(float(x))]\n",
    "    x2 = []\n",
    "    past_10 = deque(maxlen = 10)\n",
    "    past_10.append(x[0])\n",
    "    for i in x:\n",
    "        mean = np.mean([abs(g) for g in past_10])\n",
    "        if len(x2) > 1:\n",
    "            if abs(i - x2[-1]) < abs(mean)*1000:\n",
    "                x2.append(i)\n",
    "                past_10.append(i)\n",
    "            else:\n",
    "                print(i, \"is error\")\n",
    "        else:\n",
    "            x2.append(i)\n",
    "    return x2\n",
    "\n",
    "rewards = read_log(\"logs/rewards_log.txt\")\n",
    "fig, ax = plt.subplots(1,1,figsize=(30,5))\n",
    "ax.plot(rewards)\n",
    "ax.axhline(y=0)\n",
    "\n",
    "s=10\n",
    "\n",
    "x = read_log(\"logs/loss_log.txt\")\n",
    "x = [i for i in x if i != 0]\n",
    "x1=[np.average(x[i-s+1:i+1])for i in tqdm(range(0,len(x)))]\n",
    "#x2=[np.average(x[max(0,i-s2+1):i+1])for i in tqdm(range(s,len(x)))]\n",
    "\n",
    "\n",
    "y = read_log(\"logs/qv_log.txt\")\n",
    "y = [i for i in y if i != 0]\n",
    "y1=[np.average(y[i-s+1:i+1])for i in tqdm(range(0,len(y)))]\n",
    "\n",
    "clear_output()\n",
    "fig, ax = plt.subplots(1,2,figsize=(30,7))\n",
    "#ax[0].set_ylim(0,3)\n",
    "ax[0].plot(x)\n",
    "ax[0].plot(x1)\n",
    "#ax[0].plot(x2)\n",
    "#ax[1].set_ylim(1,3)\n",
    "ax[1].plot(y)\n",
    "ax[1].plot(y1)\n"
   ]
  },
  {
   "cell_type": "code",
   "execution_count": null,
   "id": "9fc57231-32f7-475f-a6bb-4fb913b27d52",
   "metadata": {},
   "outputs": [],
   "source": []
  },
  {
   "cell_type": "code",
   "execution_count": null,
   "id": "8665963f-6ae3-4dc5-9cf1-b8b10f0310a8",
   "metadata": {},
   "outputs": [],
   "source": []
  },
  {
   "cell_type": "code",
   "execution_count": null,
   "id": "174ccb92-8f32-417b-8817-d7487687e489",
   "metadata": {},
   "outputs": [],
   "source": []
  },
  {
   "cell_type": "code",
   "execution_count": null,
   "id": "857c76ad-dc38-457a-adf3-fe5fe875f0c1",
   "metadata": {},
   "outputs": [],
   "source": []
  },
  {
   "cell_type": "code",
   "execution_count": null,
   "id": "f5c86b97-36a6-4eb4-92aa-94214e3fba81",
   "metadata": {},
   "outputs": [],
   "source": []
  },
  {
   "cell_type": "code",
   "execution_count": null,
   "id": "7c7f307b-c91e-40e7-a66b-77134cba96d7",
   "metadata": {},
   "outputs": [],
   "source": []
  },
  {
   "cell_type": "code",
   "execution_count": null,
   "id": "bf451cfc-0a83-4966-b1da-798210d9f482",
   "metadata": {},
   "outputs": [],
   "source": []
  },
  {
   "cell_type": "code",
   "execution_count": null,
   "id": "ddf16df9-2005-4473-acd5-1005b08abe93",
   "metadata": {},
   "outputs": [],
   "source": []
  },
  {
   "cell_type": "code",
   "execution_count": null,
   "id": "e3a7960b-629c-4a0c-832c-7e4723f8ac50",
   "metadata": {},
   "outputs": [],
   "source": []
  },
  {
   "cell_type": "code",
   "execution_count": null,
   "id": "477e0a09-0743-434f-97d4-87aecd228116",
   "metadata": {},
   "outputs": [],
   "source": [
    "plt.plot([0.99**x for x in range(100)])\n",
    "plt.plot([0.975**x for x in range(100)])\n",
    "plt.plot([0.95**x for x in range(100)])"
   ]
  },
  {
   "cell_type": "code",
   "execution_count": null,
   "id": "3aa49430-8fe3-4e95-a895-8d7de1eb04c5",
   "metadata": {},
   "outputs": [],
   "source": [
    "e = 1\n",
    "g = 0.975\n",
    "x = [e]\n",
    "for i in range(500):\n",
    "    x.append(x[-1]+e*g**i)\n",
    "plt.plot(x)"
   ]
  },
  {
   "cell_type": "code",
   "execution_count": null,
   "id": "e21dbf50-0c4a-4269-a93a-c68a23100db4",
   "metadata": {},
   "outputs": [],
   "source": []
  }
 ],
 "metadata": {
  "kernelspec": {
   "display_name": "Python 3",
   "language": "python",
   "name": "python3"
  },
  "language_info": {
   "codemirror_mode": {
    "name": "ipython",
    "version": 3
   },
   "file_extension": ".py",
   "mimetype": "text/x-python",
   "name": "python",
   "nbconvert_exporter": "python",
   "pygments_lexer": "ipython3",
   "version": "3.6.8"
  }
 },
 "nbformat": 4,
 "nbformat_minor": 5
}
