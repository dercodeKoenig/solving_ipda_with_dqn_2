{
 "cells": [
  {
   "cell_type": "code",
   "execution_count": null,
   "id": "fb193759-c8c3-4bc6-b348-f228ce006a03",
   "metadata": {},
   "outputs": [],
   "source": [
    "import matplotlib.pyplot as plt\n",
    "import numpy as np\n",
    "from tqdm import tqdm\n",
    "from IPython.display import clear_output\n",
    "import time"
   ]
  },
  {
   "cell_type": "code",
   "execution_count": null,
   "id": "9fc57231-32f7-475f-a6bb-4fb913b27d52",
   "metadata": {},
   "outputs": [],
   "source": [
    "\n",
    "file1 = open(\"logs/rewards_log.txt\")\n",
    "text = file1.read()\n",
    "file1.close()\n",
    "\n",
    "rewards = [float(x) for x in text.split(\"\\n\")[0:] if x != \"\" and not np.isnan(float(x))]\n",
    "\n",
    "\n",
    "fig, ax = plt.subplots(1,1,figsize=(30,5))\n",
    "ax.plot(rewards)\n",
    "ax.axhline(y=0)\n",
    "#s = [0]\n",
    "#for i in rewards:\n",
    "#    z = s[-1]+i\n",
    "    #s.append(z)\n",
    "#ax.plot(s)"
   ]
  },
  {
   "cell_type": "code",
   "execution_count": null,
   "id": "8665963f-6ae3-4dc5-9cf1-b8b10f0310a8",
   "metadata": {},
   "outputs": [],
   "source": [
    "\n",
    "s=10\n",
    "#s2 = 30000\n",
    "\n",
    "file1 = open(\"logs/loss_log.txt\")\n",
    "text = file1.read()\n",
    "file1.close()\n",
    "\n",
    "x = [float(x) for x in text.split(\"\\n\")[0:] if x != \"\" and x != float(x)!= 0 and float(x)<1000]\n",
    "weights = [m+1 for m in range(s)]\n",
    "x1=[np.average(x[i-s+1:i+1], weights = None)for i in tqdm(range(s,len(x)))]\n",
    "#x2=[np.average(x[max(0,i-s2+1):i+1])for i in tqdm(range(s,len(x)))]\n",
    "\n",
    "file1 = open(\"logs/qv_log.txt\")\n",
    "text = file1.read()\n",
    "file1.close()\n",
    "\n",
    "y = [float(x) for x in text.split(\"\\n\")[0:] if x != \"\"  and x != float(x)!= 0]\n",
    "weights = [m+1 for m in range(s)]\n",
    "y1=[np.average(y[i-s+1:i+1], weights = None)for i in tqdm(range(s,len(y)))]\n",
    "\n",
    "clear_output()\n",
    "fig, ax = plt.subplots(1,2,figsize=(30,10))\n",
    "#ax[0].set_ylim(0,0.01)\n",
    "ax[0].plot(x)\n",
    "ax[0].plot(x1)\n",
    "#ax[0].plot(x2)\n",
    "#ax[1].set_ylim(1,3)\n",
    "ax[1].plot(y)\n",
    "ax[1].plot(y1)\n"
   ]
  },
  {
   "cell_type": "code",
   "execution_count": null,
   "id": "174ccb92-8f32-417b-8817-d7487687e489",
   "metadata": {},
   "outputs": [],
   "source": [
    "#plt.plot([10000*1.05**x for x in range(120)])"
   ]
  },
  {
   "cell_type": "code",
   "execution_count": null,
   "id": "857c76ad-dc38-457a-adf3-fe5fe875f0c1",
   "metadata": {},
   "outputs": [],
   "source": []
  },
  {
   "cell_type": "code",
   "execution_count": null,
   "id": "f5c86b97-36a6-4eb4-92aa-94214e3fba81",
   "metadata": {},
   "outputs": [],
   "source": []
  },
  {
   "cell_type": "code",
   "execution_count": null,
   "id": "7c7f307b-c91e-40e7-a66b-77134cba96d7",
   "metadata": {},
   "outputs": [],
   "source": []
  },
  {
   "cell_type": "code",
   "execution_count": null,
   "id": "bf451cfc-0a83-4966-b1da-798210d9f482",
   "metadata": {},
   "outputs": [],
   "source": [
    "plt.plot([0.95**i for i in range(100)])\n",
    "plt.plot([0.99**i for i in range(100)])"
   ]
  },
  {
   "cell_type": "code",
   "execution_count": null,
   "id": "ddf16df9-2005-4473-acd5-1005b08abe93",
   "metadata": {},
   "outputs": [],
   "source": []
  }
 ],
 "metadata": {
  "kernelspec": {
   "display_name": "Python 3",
   "language": "python",
   "name": "python3"
  },
  "language_info": {
   "codemirror_mode": {
    "name": "ipython",
    "version": 3
   },
   "file_extension": ".py",
   "mimetype": "text/x-python",
   "name": "python",
   "nbconvert_exporter": "python",
   "pygments_lexer": "ipython3",
   "version": "3.6.8"
  }
 },
 "nbformat": 4,
 "nbformat_minor": 5
}
