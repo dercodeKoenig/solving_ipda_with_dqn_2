{
 "cells": [
  {
   "cell_type": "code",
   "execution_count": 1,
   "id": "5874379d-f4b2-4151-ad9c-d6469cc3afaa",
   "metadata": {},
   "outputs": [],
   "source": [
    "import pickle \n",
    "import os\n",
    "from tqdm import tqdm\n",
    "import pandas as pd"
   ]
  },
  {
   "cell_type": "code",
   "execution_count": 2,
   "id": "3e0b9c0c-c5dc-414c-9636-0972216e2a24",
   "metadata": {},
   "outputs": [],
   "source": [
    "def Load(file):\n",
    "    f = open(file, \"rb\")\n",
    "    obj = pickle.load(f)\n",
    "    f.close()\n",
    "    return obj"
   ]
  },
  {
   "cell_type": "code",
   "execution_count": 9,
   "id": "32ce6698-8336-4f3d-8030-2202bdf70ab3",
   "metadata": {},
   "outputs": [],
   "source": [
    "def Save(_object, file):\n",
    "    filehandler = open(file, 'wb') \n",
    "    pickle.dump(_object, filehandler)\n"
   ]
  },
  {
   "cell_type": "code",
   "execution_count": 4,
   "id": "031bb9a9-67cd-4c40-9239-b54ac45f6b50",
   "metadata": {},
   "outputs": [
    {
     "name": "stdout",
     "output_type": "stream",
     "text": [
      "['./archive/15_AUDJPY.csv', './archive/15_AUDUSD.csv', './archive/15_CHFJPY.csv', './archive/15_EURAUD.csv', './archive/15_EURCHF.csv', './archive/15_EURGBP.csv', './archive/15_EURJPY.csv', './archive/15_EURUSD.csv', './archive/15_GBPCHF.csv', './archive/15_GBPJPY.csv', './archive/15_GBPUSD.csv', './archive/15_NZDUSD.csv', './archive/15_USDCAD.csv', './archive/15_USDCHF.csv', './archive/15_USDJPY.csv']\n"
     ]
    }
   ],
   "source": [
    "data_dir = \"./archive\"\n",
    "files = [data_dir+\"/\"+x for x in os.listdir(data_dir) if \"csv\" in x]\n",
    "print(files)"
   ]
  },
  {
   "cell_type": "code",
   "execution_count": 5,
   "id": "10abe11a-109d-499b-93b2-a9dfae069b1c",
   "metadata": {},
   "outputs": [],
   "source": [
    "class candle_class:\n",
    "    def __init__(self, o,h,l,c,t):\n",
    "        self.o=o\n",
    "        self.h=h\n",
    "        self.l=l\n",
    "        self.c=c\n",
    "        self.t=t\n"
   ]
  },
  {
   "cell_type": "code",
   "execution_count": 13,
   "id": "ce734cbc-a567-4082-8ccc-1a558787a89f",
   "metadata": {},
   "outputs": [
    {
     "name": "stderr",
     "output_type": "stream",
     "text": [
      "100%|████████████████████████████████████████████████████████████████████████| 480606/480606 [01:26<00:00, 5555.12it/s]\n",
      "100%|████████████████████████████████████████████████████████████████████████| 501514/501514 [01:23<00:00, 6037.19it/s]\n",
      "100%|████████████████████████████████████████████████████████████████████████| 480598/480598 [01:29<00:00, 5396.59it/s]\n",
      "100%|████████████████████████████████████████████████████████████████████████| 479490/479490 [01:35<00:00, 5017.58it/s]\n",
      "100%|████████████████████████████████████████████████████████████████████████| 488718/488718 [01:41<00:00, 4833.47it/s]\n",
      "100%|████████████████████████████████████████████████████████████████████████| 489446/489446 [01:46<00:00, 4594.97it/s]\n",
      "100%|████████████████████████████████████████████████████████████████████████| 489586/489586 [01:47<00:00, 4545.97it/s]\n",
      "  6%|████▎                                                                    | 30638/526034 [00:05<01:22, 6004.21it/s]"
     ]
    },
    {
     "name": "stdout",
     "output_type": "stream",
     "text": [
      "error in candle\n",
      "error in candle\n",
      "error in candle\n",
      "error in candle\n"
     ]
    },
    {
     "name": "stderr",
     "output_type": "stream",
     "text": [
      "100%|████████████████████████████████████████████████████████████████████████| 526034/526034 [01:30<00:00, 5803.44it/s]\n",
      "100%|████████████████████████████████████████████████████████████████████████| 479386/479386 [01:33<00:00, 5138.61it/s]\n",
      "100%|████████████████████████████████████████████████████████████████████████| 485374/485374 [01:37<00:00, 4979.36it/s]\n",
      "100%|████████████████████████████████████████████████████████████████████████| 526042/526042 [01:29<00:00, 5880.23it/s]\n",
      "100%|████████████████████████████████████████████████████████████████████████| 407002/407002 [01:10<00:00, 5746.25it/s]\n",
      "100%|████████████████████████████████████████████████████████████████████████| 511410/511410 [01:49<00:00, 4663.53it/s]\n",
      "100%|████████████████████████████████████████████████████████████████████████| 525366/525366 [01:55<00:00, 4557.88it/s]\n",
      "100%|████████████████████████████████████████████████████████████████████████| 526442/526442 [02:02<00:00, 4300.47it/s]\n"
     ]
    }
   ],
   "source": [
    "for file in files:\n",
    "    data = pd.read_csv(file)\n",
    "    candles = []\n",
    "    for i in tqdm(range(len(data))):\n",
    "            d = data.iloc[i]\n",
    "            t = d[1].split(\" - \")[1]\n",
    "            x = candle_class(float(d[2]), float(d[3]), float(d[4]), float(d[5]), t)\n",
    "            if x.o<=0 or x.h<=0 or x.l<=0 or x.c <=0:\n",
    "                print(\"error in candle\")\n",
    "            else:\n",
    "                candles.append(x)\n",
    "    Save(candles, file+\"_candle_classes\")"
   ]
  },
  {
   "cell_type": "code",
   "execution_count": null,
   "id": "529bfb5c-7490-452a-add5-2a819b685327",
   "metadata": {},
   "outputs": [],
   "source": []
  },
  {
   "cell_type": "code",
   "execution_count": null,
   "id": "f70306ed-ef66-4592-9e0c-4f171043f886",
   "metadata": {},
   "outputs": [],
   "source": []
  },
  {
   "cell_type": "code",
   "execution_count": null,
   "id": "098fb12e-2cd9-4d3c-bb25-2b6244c9cc48",
   "metadata": {},
   "outputs": [],
   "source": []
  }
 ],
 "metadata": {
  "kernelspec": {
   "display_name": "Python 3",
   "language": "python",
   "name": "python3"
  },
  "language_info": {
   "codemirror_mode": {
    "name": "ipython",
    "version": 3
   },
   "file_extension": ".py",
   "mimetype": "text/x-python",
   "name": "python",
   "nbconvert_exporter": "python",
   "pygments_lexer": "ipython3",
   "version": "3.6.8"
  }
 },
 "nbformat": 4,
 "nbformat_minor": 5
}
