{
 "cells": [
  {
   "cell_type": "code",
   "execution_count": 1,
   "id": "9200395f-000b-4dd9-aa2b-57aa38480858",
   "metadata": {},
   "outputs": [],
   "source": [
    "import os\n",
    "os.environ[\"CUDA_VISIBLE_DEVICES\"]=\"-1\"    \n",
    "from dqn import DQNAgent"
   ]
  },
  {
   "cell_type": "code",
   "execution_count": 2,
   "id": "39f38cff-3dae-4b3b-acfe-0916f103cbf4",
   "metadata": {},
   "outputs": [
    {
     "name": "stdout",
     "output_type": "stream",
     "text": [
      "Model: \"model\"\n",
      "_________________________________________________________________\n",
      "Layer (type)                 Output Shape              Param #   \n",
      "=================================================================\n",
      "input_1 (InputLayer)         [(None, 8)]               0         \n",
      "_________________________________________________________________\n",
      "dense (Dense)                (None, 512)               4608      \n",
      "_________________________________________________________________\n",
      "dense_1 (Dense)              (None, 1024)              525312    \n",
      "_________________________________________________________________\n",
      "dense_2 (Dense)              (None, 1024)              1049600   \n",
      "_________________________________________________________________\n",
      "dense_3 (Dense)              (None, 512)               524800    \n",
      "_________________________________________________________________\n",
      "dense_4 (Dense)              (None, 4)                 2052      \n",
      "=================================================================\n",
      "Total params: 2,106,372\n",
      "Trainable params: 2,106,372\n",
      "Non-trainable params: 0\n",
      "_________________________________________________________________\n"
     ]
    }
   ],
   "source": [
    "import tensorflow as tf\n",
    "inp = tf.keras.layers.Input(shape = (8))\n",
    "x = tf.keras.layers.Dense(512, activation = \"relu\")(inp)\n",
    "x = tf.keras.layers.Dense(1024, activation = \"relu\")(x)\n",
    "x = tf.keras.layers.Dense(1024, activation = \"relu\")(x)\n",
    "x = tf.keras.layers.Dense(512, activation = \"relu\")(x)\n",
    "x = tf.keras.layers.Dense(4, activation = \"linear\")(x)\n",
    "\n",
    "model = tf.keras.Model(inputs = inp, outputs = x)\n",
    "model.summary()"
   ]
  },
  {
   "cell_type": "code",
   "execution_count": 3,
   "id": "b1479996-5078-405a-ab09-2b0d919d4628",
   "metadata": {},
   "outputs": [],
   "source": [
    "x = DQNAgent(model = model,\n",
    "                 n_actions = 4,\n",
    "                 memory_size = 100000, \n",
    "                 optimizer = tf.keras.optimizers.Adam(0.001), \n",
    "                 gamma = 0.99,\n",
    "                 batch_size =64,\n",
    "                 name = \"dqn1\",\n",
    "                 target_model_sync = 200,\n",
    "                 exploration = 0.05)"
   ]
  },
  {
   "cell_type": "code",
   "execution_count": 4,
   "id": "d1075b0e-0c2c-46b9-893a-804ad381cdcb",
   "metadata": {},
   "outputs": [],
   "source": [
    "import gym\n",
    "envs = [gym.make(\"LunarLander-v2\") for _ in range(8)]"
   ]
  },
  {
   "cell_type": "code",
   "execution_count": 5,
   "id": "63a4ed67-c40d-413a-bce6-be62fdf67004",
   "metadata": {},
   "outputs": [
    {
     "name": "stdout",
     "output_type": "stream",
     "text": [
      "1000/1000 [==============================] - 4s 4ms/step - loss: 0.0000e+00 - mean q: 0.0000e+00 - rewards: -7.7427 - t: 5.3656\n",
      "1000/1000 [==============================] - 27s 27ms/step - loss: 72.8374 - mean q: -11.3286 - rewards: -2.3233 - t: 23.8333\n",
      "1000/1000 [==============================] - 35s 35ms/step - loss: 29.4467 - mean q: -17.8668 - rewards: -0.1134 - t: 31.7540\n",
      "1000/1000 [==============================] - 38s 38ms/step - loss: 18.6323 - mean q: -12.5785 - rewards: -0.1135 - t: 34.2687\n",
      "1000/1000 [==============================] - 42s 42ms/step - loss: 14.6705 - mean q: -8.7363 - rewards: -0.0751 - t: 45.8937\n",
      "1000/1000 [==============================] - 39s 39ms/step - loss: 11.8795 - mean q: -7.5311 - rewards: -0.0501 - t: 29.9315\n",
      "1000/1000 [==============================] - 40s 40ms/step - loss: 12.2534 - mean q: -5.5790 - rewards: -0.0259 - t: 45.6397\n",
      "1000/1000 [==============================] - 43s 43ms/step - loss: 10.9875 - mean q: -1.0721 - rewards: -0.0220 - t: 49.5967\n",
      "1000/1000 [==============================] - 51s 51ms/step - loss: 10.6158 - mean q: 3.8106 - rewards: -0.1086 - t: 43.8190\n",
      "1000/1000 [==============================] - 50s 50ms/step - loss: 12.8941 - mean q: 9.0049 - rewards: -0.1605 - t: 54.9352\n"
     ]
    },
    {
     "name": "stderr",
     "output_type": "stream",
     "text": [
      "c:\\users\\root\\appdata\\local\\programs\\python\\python36\\lib\\site-packages\\numpy\\core\\fromnumeric.py:3373: RuntimeWarning: Mean of empty slice.\n",
      "  out=out, **kwargs)\n",
      "c:\\users\\root\\appdata\\local\\programs\\python\\python36\\lib\\site-packages\\numpy\\core\\_methods.py:170: RuntimeWarning: invalid value encountered in double_scalars\n",
      "  ret = ret.dtype.type(ret / rcount)\n"
     ]
    }
   ],
   "source": [
    "x.train(10000, envs = envs, warmup = 1000, render = False, use_reward_per_episode = False)"
   ]
  },
  {
   "cell_type": "code",
   "execution_count": 8,
   "id": "f07cbc21-a1aa-4c1b-8945-8aa49f298719",
   "metadata": {},
   "outputs": [
    {
     "name": "stdout",
     "output_type": "stream",
     "text": [
      " 498/1000 [=============>................] - ETA: 12s - loss: 12.7558 - mean q: 12.5886 - rewards: 0.1053 - t: 23.7895"
     ]
    }
   ],
   "source": [
    "envs = [gym.make(\"LunarLander-v2\") for _ in range(1)]\n",
    "x.train(500, envs = envs, warmup = 0, render = True, use_reward_per_episode = False)"
   ]
  },
  {
   "cell_type": "code",
   "execution_count": 9,
   "id": "b1020d5c-f2d0-4bbf-a4b1-4e39e9c01253",
   "metadata": {},
   "outputs": [],
   "source": [
    "for i in range(len(envs)):\n",
    "    envs[i].close()"
   ]
  },
  {
   "cell_type": "code",
   "execution_count": null,
   "id": "46e170a8-bc36-4974-8883-7cebd5852ca6",
   "metadata": {},
   "outputs": [],
   "source": []
  }
 ],
 "metadata": {
  "kernelspec": {
   "display_name": "Python 3",
   "language": "python",
   "name": "python3"
  },
  "language_info": {
   "codemirror_mode": {
    "name": "ipython",
    "version": 3
   },
   "file_extension": ".py",
   "mimetype": "text/x-python",
   "name": "python",
   "nbconvert_exporter": "python",
   "pygments_lexer": "ipython3",
   "version": "3.6.8"
  }
 },
 "nbformat": 4,
 "nbformat_minor": 5
}
